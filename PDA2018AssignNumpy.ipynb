{
 "cells": [
  {
   "cell_type": "code",
   "execution_count": null,
   "metadata": {
    "collapsed": true
   },
   "outputs": [],
   "source": []
  },
  {
   "cell_type": "raw",
   "metadata": {},
   "source": []
  },
  {
   "cell_type": "markdown",
   "metadata": {
    "collapsed": true
   },
   "source": [
    "# The Numpy.Random Package - An Investigation\n",
    "In this notebook we will be investigating the Numpy.random package and it's various features.  Numpy.random is a random sampling mechanism within the greater Numpy package.\n",
    "\n",
    "### What is NumPy?\n",
    "\n",
    "NumPy is the fundamental package for scientific computing with Python.  It is a library for the Python programming language, adding support for large, multi-dimensional arrays and matrices, along with a large collection of high-level mathematical functions to operate on these arrays.\n"
   ]
  },
  {
   "cell_type": "markdown",
   "metadata": {},
   "source": [
    "### Random Data\n",
    "In statistics, a simple random sample is a subset of individuals (a sample) chosen from a larger set (a population).  A random sample ought to be completely unbiased, although this is very difficult to achieve in reality.  It is assumed that if a random sample is truely random, then any individual has the same probability of being chosen as any other individual or, by extension, any subset of individuals has the same probability of being chosen as any other subset. "
   ]
  },
  {
   "cell_type": "markdown",
   "metadata": {},
   "source": [
    "### Numpy.Random\n",
    "An important part of any simulation is the ability to generate random numbers. For this purpose, NumPy provides various routines in the submodule random. It uses a particular algorithm, called the Mersenne Twister, to generate pseudorandom numbers.  We call them pseudorandom because, as noted above, it is almost impossible to remove all bias from selection,both in computing and everyday life.\n",
    "\n",
    "#### There are four sections to Numpy.random\n",
    "1. Simple Random Data\n",
    "2. Permutations\n",
    "3. Distributions\n",
    "4. Random Generators\n",
    "\n",
    "We will look at these in turn.\n",
    "\n"
   ]
  },
  {
   "cell_type": "code",
   "execution_count": 4,
   "metadata": {
    "collapsed": true
   },
   "outputs": [],
   "source": [
    "import numpy as np"
   ]
  },
  {
   "cell_type": "markdown",
   "metadata": {},
   "source": [
    "#### 1.Simple Random Data\n",
    "This is numpy.random operating at it's most basic level.  It has a number of functions to generate simple random data and we can take a look at two of these.\n",
    "\n",
    "##### 1.1 rand(d0, d1, …, dn)\n",
    "This generates an array of random values greater than and equal to zero and less than one in a given shape.  The number of values is determinded by the shape of the array.  For example, a two dimensional array with 3 rows and 4 columns will look like the output below, giving twelve values."
   ]
  },
  {
   "cell_type": "code",
   "execution_count": 5,
   "metadata": {},
   "outputs": [
    {
     "data": {
      "text/plain": [
       "array([[ 0.0474676 ,  0.92554667,  0.34826961,  0.294104  ],\n",
       "       [ 0.98476812,  0.19905438,  0.69083312,  0.26104653],\n",
       "       [ 0.03280553,  0.1519897 ,  0.47622022,  0.17446732]])"
      ]
     },
     "execution_count": 5,
     "metadata": {},
     "output_type": "execute_result"
    }
   ],
   "source": [
    "x = np.random.rand(3,4)\n",
    "x"
   ]
  },
  {
   "cell_type": "markdown",
   "metadata": {},
   "source": [
    "We can add a third dimension to the array by adding another variable to the function.  For example, below, adding 2 to give a three dimensional selection, two arrays of three rows and four columns."
   ]
  },
  {
   "cell_type": "code",
   "execution_count": 6,
   "metadata": {},
   "outputs": [
    {
     "data": {
      "text/plain": [
       "array([[[ 0.02943066,  0.38009545,  0.15859856,  0.30963853],\n",
       "        [ 0.76001024,  0.66529756,  0.51942781,  0.42559331],\n",
       "        [ 0.32204591,  0.89963097,  0.95424949,  0.48106929]],\n",
       "\n",
       "       [[ 0.41662491,  0.99194392,  0.29534781,  0.87674133],\n",
       "        [ 0.89150078,  0.96536104,  0.51251396,  0.9455774 ],\n",
       "        [ 0.64455949,  0.00177904,  0.04172531,  0.56071739]]])"
      ]
     },
     "execution_count": 6,
     "metadata": {},
     "output_type": "execute_result"
    }
   ],
   "source": [
    "y = np.random.rand(2,3,4)\n",
    "y"
   ]
  },
  {
   "cell_type": "markdown",
   "metadata": {},
   "source": [
    "##### 1.2 randint(low[, high, size, dtype])\n",
    "\n",
    "This returns random integers from low (inclusive) to high (exclusive).  This allows for setting the parameters of the array outside of zero to one as with rand, above.  The example below generatesfiftenn integers greater than and equal to zero and less than twenty."
   ]
  },
  {
   "cell_type": "code",
   "execution_count": 14,
   "metadata": {},
   "outputs": [
    {
     "data": {
      "text/plain": [
       "array([ 8, 17, 15, 15, 16, 19, 17,  7, 14,  3,  1, 18,  6,  7,  4])"
      ]
     },
     "execution_count": 14,
     "metadata": {},
     "output_type": "execute_result"
    }
   ],
   "source": [
    "z = np.random.randint(1,20, size=15)\n",
    "z"
   ]
  },
  {
   "cell_type": "markdown",
   "metadata": {},
   "source": [
    "#### 2. Permutations\n",
    "\n",
    "##### 2.1 permutation(x)\n",
    "\n",
    "This modifies a sequence in-place by shuffling the contents of an array into different permutations.  The actual contents remain the same but the order is shuffled.  In the example below the array of 20 integers is shuffled but the same integers remain in the array.\n"
   ]
  },
  {
   "cell_type": "code",
   "execution_count": 41,
   "metadata": {},
   "outputs": [
    {
     "data": {
      "text/plain": [
       "array([10,  7, 19,  0,  4, 18,  6, 11,  5,  3, 14, 12, 17,  1, 13, 15,  2,\n",
       "        8, 16,  9])"
      ]
     },
     "execution_count": 41,
     "metadata": {},
     "output_type": "execute_result"
    }
   ],
   "source": [
    "arr = np.random.permutation(20)\n",
    "arr"
   ]
  },
  {
   "cell_type": "markdown",
   "metadata": {
    "collapsed": true
   },
   "source": [
    "#### 3. Distributions\n",
    "\n"
   ]
  },
  {
   "cell_type": "code",
   "execution_count": null,
   "metadata": {
    "collapsed": true
   },
   "outputs": [],
   "source": []
  },
  {
   "cell_type": "code",
   "execution_count": null,
   "metadata": {
    "collapsed": true
   },
   "outputs": [],
   "source": []
  },
  {
   "cell_type": "code",
   "execution_count": 38,
   "metadata": {},
   "outputs": [
    {
     "data": {
      "image/png": "[encoded data removed]",
      "text/plain": [
       "<matplotlib.figure.Figure at 0x180c35ccda0>"
      ]
     },
     "metadata": {},
     "output_type": "display_data"
    }
   ],
   "source": [
    "import matplotlib.pyplot as plt\n",
    "plt.hist(x)\n",
    "\n",
    "plt.show()\n"
   ]
  },
  {
   "cell_type": "code",
   "execution_count": 25,
   "metadata": {},
   "outputs": [
    {
     "data": {
      "text/plain": [
       "array([-0.49563004, -0.9347132 , -0.95157108, -0.93103763, -0.54154729,\n",
       "       -0.48968144, -0.05229404, -0.96295092, -0.0231392 , -0.50838701,\n",
       "       -0.24215617, -0.39764917, -0.62615919, -0.46148441, -0.26106641,\n",
       "       -0.73738711, -0.87678727, -0.90483453, -0.83833859, -0.31021402,\n",
       "       -0.11796877, -0.71016487, -0.66676825, -0.87722064, -0.318094  ,\n",
       "       -0.80967466, -0.32222113, -0.10573478, -0.69147376, -0.71047924,\n",
       "       -0.39371409, -0.48521269, -0.93675447, -0.41896691, -0.99017643,\n",
       "       -0.39825588, -0.77346093, -0.68293456, -0.06924299, -0.701522  ,\n",
       "       -0.5151627 , -0.85211088, -0.92168754, -0.16630064, -0.40374627,\n",
       "       -0.68991648, -0.44331921, -0.09336448, -0.93316926, -0.73489219,\n",
       "       -0.36487977, -0.41272761, -0.91007704, -0.41856747, -0.43908937,\n",
       "       -0.22059024, -0.24151592, -0.62131023, -0.61110891, -0.71456214,\n",
       "       -0.78553827, -0.87818607, -0.04458839, -0.21585585, -0.6093182 ,\n",
       "       -0.77171987, -0.24610223, -0.37587993, -0.70011229, -0.08096388,\n",
       "       -0.83067258, -0.9515394 , -0.25763538, -0.77153448, -0.64754043,\n",
       "       -0.65225503, -0.8479181 , -0.55728523, -0.32057896, -0.81984464,\n",
       "       -0.06935815, -0.02010538, -0.61621752, -0.03636571, -0.73081432,\n",
       "       -0.74213823, -0.54252864, -0.7420501 , -0.97541839, -0.64865273,\n",
       "       -0.53107015, -0.2238013 , -0.45799978, -0.52247438, -0.07380496,\n",
       "       -0.74797929, -0.5722262 , -0.30756228, -0.13552426, -0.25432864])"
      ]
     },
     "execution_count": 25,
     "metadata": {},
     "output_type": "execute_result"
    }
   ],
   "source": [
    "y = np.random.uniform(-1,0,100)\n",
    "y"
   ]
  },
  {
   "cell_type": "code",
   "execution_count": 10,
   "metadata": {},
   "outputs": [
    {
     "data": {
      "image/png": "[encoded data removed]",
      "text/plain": [
       "<matplotlib.figure.Figure at 0x180c20a1978>"
      ]
     },
     "metadata": {},
     "output_type": "display_data"
    }
   ],
   "source": [
    "plt.hist(y)\n",
    "plt.show()"
   ]
  },
  {
   "cell_type": "code",
   "execution_count": 11,
   "metadata": {
    "collapsed": true
   },
   "outputs": [],
   "source": [
    "z = np.random.normal(0, 1, 10000)"
   ]
  },
  {
   "cell_type": "code",
   "execution_count": 12,
   "metadata": {},
   "outputs": [
    {
     "data": {
      "image/png": "[encoded data removed]",
      "text/plain": [
       "<matplotlib.figure.Figure at 0x180c30a8c18>"
      ]
     },
     "metadata": {},
     "output_type": "display_data"
    }
   ],
   "source": [
    "plt.hist(z)\n",
    "\n",
    "plt.show()"
   ]
  },
  {
   "cell_type": "code",
   "execution_count": null,
   "metadata": {
    "collapsed": true
   },
   "outputs": [],
   "source": []
  }
 ],
 "metadata": {
  "kernelspec": {
   "display_name": "Python 3",
   "language": "python",
   "name": "python3"
  },
  "language_info": {
   "codemirror_mode": {
    "name": "ipython",
    "version": 3
   },
   "file_extension": ".py",
   "mimetype": "text/x-python",
   "name": "python",
   "nbconvert_exporter": "python",
   "pygments_lexer": "ipython3",
   "version": "3.6.3"
  }
 },
 "nbformat": 4,
 "nbformat_minor": 2
}
