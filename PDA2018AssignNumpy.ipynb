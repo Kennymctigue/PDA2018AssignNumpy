{
 "cells": [
  {
   "cell_type": "code",
   "execution_count": null,
   "metadata": {
    "collapsed": true
   },
   "outputs": [],
   "source": []
  },
  {
   "cell_type": "raw",
   "metadata": {},
   "source": []
  },
  {
   "cell_type": "markdown",
   "metadata": {
    "collapsed": true
   },
   "source": [
    "# The Numpy.Random Package - An Investigation\n",
    "In this notebook we will be investigating the Numpy.random package and it's various features.  Numpy.random is a random sampling mechanism within the greater Numpy package.\n",
    "\n",
    "### What is Numpy?\n",
    "Numpy is.....\n",
    "\n"
   ]
  },
  {
   "cell_type": "markdown",
   "metadata": {},
   "source": [
    "#### There are four sections to the Numpy.random package.\n",
    "1. Simple Random Data\n",
    "2. Permutations\n",
    "3. Distributions\n",
    "4. Random Generators\n",
    "\n",
    "We will look at these in turn.\n",
    "\n"
   ]
  },
  {
   "cell_type": "code",
   "execution_count": null,
   "metadata": {
    "collapsed": true
   },
   "outputs": [],
   "source": []
  },
  {
   "cell_type": "code",
   "execution_count": 1,
   "metadata": {
    "collapsed": true
   },
   "outputs": [],
   "source": [
    "import numpy as np"
   ]
  },
  {
   "cell_type": "markdown",
   "metadata": {},
   "source": [
    "#### Simple Random Data\n",
    "\n",
    "The "
   ]
  },
  {
   "cell_type": "code",
   "execution_count": 9,
   "metadata": {},
   "outputs": [
    {
     "data": {
      "text/plain": [
       "array([ 0.35974537,  0.15632992,  0.20904675, ...,  0.21518408,\n",
       "        0.94784767,  0.56162972])"
      ]
     },
     "execution_count": 9,
     "metadata": {},
     "output_type": "execute_result"
    }
   ],
   "source": [
    "x = np.random.rand(10000)\n",
    "x"
   ]
  },
  {
   "cell_type": "code",
   "execution_count": 10,
   "metadata": {},
   "outputs": [
    {
     "data": {
      "image/png": "[encoded data removed]",
      "text/plain": [
       "<matplotlib.figure.Figure at 0x199c088f390>"
      ]
     },
     "metadata": {},
     "output_type": "display_data"
    }
   ],
   "source": [
    "import matplotlib.pyplot as plt\n",
    "plt.hist(x)\n",
    "plt.show()"
   ]
  },
  {
   "cell_type": "code",
   "execution_count": 29,
   "metadata": {},
   "outputs": [
    {
     "data": {
      "text/plain": [
       "array([-0.07016699, -0.47970614, -0.92304142, -0.1079491 , -0.21321163,\n",
       "       -0.91223228, -0.83894069, -0.82772345, -0.12800957, -0.11986098,\n",
       "       -0.44141731, -0.77881404, -0.33221873, -0.57933622, -0.2738732 ,\n",
       "       -0.83564559, -0.72004998, -0.88811623, -0.0659725 , -0.1683888 ,\n",
       "       -0.99738066, -0.85221729, -0.90746683, -0.14414411, -0.60938133,\n",
       "       -0.73124867, -0.26532776, -0.09553605, -0.22706177, -0.66979856,\n",
       "       -0.45654313, -0.48146563, -0.81892432, -0.08452513, -0.9866371 ,\n",
       "       -0.60621203, -0.63800116, -0.2933793 , -0.80502296, -0.30518083,\n",
       "       -0.414797  , -0.97174931, -0.93119699, -0.32688841, -0.35519858,\n",
       "       -0.62465632, -0.75760393, -0.76953061, -0.0356372 , -0.60715871,\n",
       "       -0.12372457, -0.26491173, -0.68522536, -0.00617885, -0.09321307,\n",
       "       -0.53166942, -0.19676859, -0.69622659, -0.02053539, -0.21578365,\n",
       "       -0.39726776, -0.32031135, -0.14791901, -0.71978441, -0.03394947,\n",
       "       -0.89330741, -0.72653626, -0.20397344, -0.92743755, -0.73597584,\n",
       "       -0.84549509, -0.23761536, -0.13067468, -0.3264787 , -0.04134023,\n",
       "       -0.61560093, -0.78234636, -0.30102591, -0.27197881, -0.75913559,\n",
       "       -0.54070511, -0.73619988, -0.13606927, -0.51078041, -0.14292002,\n",
       "       -0.25713328, -0.83659871, -0.77624992, -0.52734971, -0.15151378,\n",
       "       -0.0254812 , -0.96291117, -0.88994669, -0.41409233, -0.9695624 ,\n",
       "       -0.76339391, -0.67594627, -0.00920895, -0.91718739, -0.5904277 ])"
      ]
     },
     "execution_count": 29,
     "metadata": {},
     "output_type": "execute_result"
    }
   ],
   "source": [
    "y = np.random.uniform(-1,0,100)\n",
    "y"
   ]
  },
  {
   "cell_type": "code",
   "execution_count": 19,
   "metadata": {},
   "outputs": [
    {
     "data": {
      "image/png": "[encoded data removed]",
      "text/plain": [
       "<matplotlib.figure.Figure at 0x199c1cdfc50>"
      ]
     },
     "metadata": {},
     "output_type": "display_data"
    }
   ],
   "source": [
    "plt.hist(y)\n",
    "plt.show()"
   ]
  },
  {
   "cell_type": "code",
   "execution_count": 27,
   "metadata": {
    "collapsed": true
   },
   "outputs": [],
   "source": [
    "z = np.random.normal(0, 1, 10000)"
   ]
  },
  {
   "cell_type": "code",
   "execution_count": 28,
   "metadata": {},
   "outputs": [
    {
     "data": {
      "image/png": "[encoded data removed]",
      "text/plain": [
       "<matplotlib.figure.Figure at 0x199c1cd56a0>"
      ]
     },
     "metadata": {},
     "output_type": "display_data"
    }
   ],
   "source": [
    "plt.hist(z)\n",
    "\n",
    "plt.show()"
   ]
  },
  {
   "cell_type": "code",
   "execution_count": null,
   "metadata": {
    "collapsed": true
   },
   "outputs": [],
   "source": []
  }
 ],
 "metadata": {
  "kernelspec": {
   "display_name": "Python 3",
   "language": "python",
   "name": "python3"
  },
  "language_info": {
   "codemirror_mode": {
    "name": "ipython",
    "version": 3
   },
   "file_extension": ".py",
   "mimetype": "text/x-python",
   "name": "python",
   "nbconvert_exporter": "python",
   "pygments_lexer": "ipython3",
   "version": "3.6.3"
  }
 },
 "nbformat": 4,
 "nbformat_minor": 2
}
