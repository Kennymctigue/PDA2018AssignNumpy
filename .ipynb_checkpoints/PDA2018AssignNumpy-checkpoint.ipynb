{
 "cells": [
  {
   "cell_type": "code",
   "execution_count": null,
   "metadata": {
    "collapsed": true
   },
   "outputs": [],
   "source": []
  },
  {
   "cell_type": "raw",
   "metadata": {},
   "source": []
  },
  {
   "cell_type": "markdown",
   "metadata": {
    "collapsed": true
   },
   "source": [
    "# The Numpy.Random Package - An Investigation\n",
    "In this notebook we will be investigating the Numpy.random package and it's various features.  Numpy.random is a random sampling mechanism within the greater Numpy package.\n",
    "\n",
    "## What is NumPy?\n",
    "\n",
    "NumPy is the fundamental package for scientific computing with Python.  It is a library for the Python programming language, adding support for large, multi-dimensional arrays and matrices, along with a large collection of high-level mathematical functions to operate on these arrays.\n"
   ]
  },
  {
   "cell_type": "markdown",
   "metadata": {},
   "source": [
    "## Random Data\n",
    "In statistics, a simple random sample is a subset of individuals (a sample) chosen from a larger set (a population).  A random sample ought to be completely unbiased, although this is very difficult to achieve in reality.  It is assumed that if a random sample is truely random, then any individual has the same probability of being chosen as any other individual or, by extension, any subset of individuals has the same probability of being chosen as any other subset. "
   ]
  },
  {
   "cell_type": "markdown",
   "metadata": {},
   "source": [
    "## Numpy.Random\n",
    "An important part of any simulation is the ability to generate random numbers. For this purpose, NumPy provides various routines in the submodule random. It uses a particular algorithm, called the Mersenne Twister, to generate pseudorandom numbers.  We call them pseudorandom because, as noted above, it is almost impossible to remove all bias from selection,both in computing and everyday life.\n",
    "\n",
    "### There are four sections to Numpy.random\n",
    "1. Simple Random Data\n",
    "2. Permutations\n",
    "3. Distributions\n",
    "4. Random Generators\n",
    "\n",
    "We will look at these in turn.\n",
    "\n"
   ]
  },
  {
   "cell_type": "code",
   "execution_count": 2,
   "metadata": {
    "collapsed": true
   },
   "outputs": [],
   "source": [
    "import numpy as np # to import the numpy package\n",
    "import matplotlib.pyplot as plt # to import matplotlib for graphing results"
   ]
  },
  {
   "cell_type": "markdown",
   "metadata": {},
   "source": [
    "### 1.Simple Random Data\n",
    "This is numpy.random operating at it's most basic level.  It has a number of functions to generate simple random data and we can take a look at two of these.\n",
    "\n",
    "#### 1.1 rand(d0, d1, …, dn)\n",
    "This generates an array of random values greater than and equal to zero and less than one in a given shape.  The number of values is determinded by the shape of the array.  For example, a two dimensional array with 3 rows and 4 columns will look like the output below, giving twelve values."
   ]
  },
  {
   "cell_type": "code",
   "execution_count": 3,
   "metadata": {},
   "outputs": [
    {
     "data": {
      "text/plain": [
       "array([[ 0.24135432,  0.46326805,  0.49101956,  0.32359617],\n",
       "       [ 0.10234111,  0.05055835,  0.4993137 ,  0.81511611],\n",
       "       [ 0.50837117,  0.12530222,  0.69485855,  0.35994148]])"
      ]
     },
     "execution_count": 3,
     "metadata": {},
     "output_type": "execute_result"
    }
   ],
   "source": [
    "x = np.random.rand(3,4)\n",
    "x"
   ]
  },
  {
   "cell_type": "markdown",
   "metadata": {},
   "source": [
    "We can add a third dimension to the array by adding another variable to the function.  For example, below, adding 2 to give a three dimensional selection, two arrays of three rows and four columns."
   ]
  },
  {
   "cell_type": "code",
   "execution_count": 4,
   "metadata": {},
   "outputs": [
    {
     "data": {
      "text/plain": [
       "array([[[ 0.4132807 ,  0.60634927,  0.39144665,  0.75356607],\n",
       "        [ 0.03386068,  0.48813355,  0.92757716,  0.80139467],\n",
       "        [ 0.72392615,  0.88578636,  0.97389149,  0.86677673]],\n",
       "\n",
       "       [[ 0.37592525,  0.97370687,  0.21539318,  0.60499082],\n",
       "        [ 0.99726203,  0.80813062,  0.13084756,  0.13634919],\n",
       "        [ 0.61997705,  0.90011264,  0.74805636,  0.92752082]]])"
      ]
     },
     "execution_count": 4,
     "metadata": {},
     "output_type": "execute_result"
    }
   ],
   "source": [
    "y = np.random.rand(2,3,4)\n",
    "y"
   ]
  },
  {
   "cell_type": "markdown",
   "metadata": {},
   "source": [
    "#### 1.2 randint(low, high=None, size=None, dtype='l')\n",
    "\n",
    "This returns random integers from low (inclusive) to high (exclusive).  This allows for setting the parameters of the array outside of zero to one as with rand, above.  The example below generatesfiftenn integers greater than and equal to zero and less than twenty."
   ]
  },
  {
   "cell_type": "code",
   "execution_count": 5,
   "metadata": {},
   "outputs": [
    {
     "data": {
      "text/plain": [
       "array([ 1, 16, 17,  2,  4, 12, 17,  1,  3, 18,  3,  7,  7, 16, 15])"
      ]
     },
     "execution_count": 5,
     "metadata": {},
     "output_type": "execute_result"
    }
   ],
   "source": [
    "z = np.random.randint(1,20, size=15)\n",
    "z"
   ]
  },
  {
   "cell_type": "markdown",
   "metadata": {},
   "source": [
    "### 2. Permutations\n",
    "\n",
    "#### 2.1 permutation(x)\n",
    "\n",
    "This modifies a sequence in-place by shuffling the contents of an array into different permutations.  The actual contents remain the same but the order is shuffled.  In the example below the array of 20 integers is shuffled but the same integers remain in the array.\n"
   ]
  },
  {
   "cell_type": "code",
   "execution_count": 6,
   "metadata": {},
   "outputs": [
    {
     "data": {
      "text/plain": [
       "array([16, 12, 13, 18, 10, 19, 15,  0,  5,  7,  9,  6, 17, 14, 11,  8,  1,\n",
       "        2,  3,  4])"
      ]
     },
     "execution_count": 6,
     "metadata": {},
     "output_type": "execute_result"
    }
   ],
   "source": [
    "arr = np.random.permutation(20)\n",
    "arr"
   ]
  },
  {
   "cell_type": "markdown",
   "metadata": {
    "collapsed": true
   },
   "source": [
    "### 3. Distributions\n",
    "\n",
    "A probability distribution tells you what the probability of an event happening is. Probability distributions can show simple events, like tossing a coin or picking a card. They can also show much more complex events, like the probability of a certain drug successfully treating cancer. The sum of all the probabilities in a probability distribution is always 100% (or 1 as a decimal).\n",
    "\n",
    "We will look at five of the most widely used probability distributions in this section.\n"
   ]
  },
  {
   "cell_type": "markdown",
   "metadata": {
    "collapsed": true
   },
   "source": [
    "#### 3.1 binomial(n, p, size=None)\n",
    "This draws samples from a binomial distribution with specified parameters where n is the number (always >=0) of trials and p is the probability ([0,1]). Size is the number of tests.  In the example below we take the example of the ball landing on red on a roulette table.  This would have equal probability of landing on red as black, so p will be equal to 0.5.  We will have twenty trials so n will be equal to 20.  We will run the test one hundred times times so Size will be equal to 100."
   ]
  },
  {
   "cell_type": "code",
   "execution_count": 7,
   "metadata": {},
   "outputs": [
    {
     "name": "stdout",
     "output_type": "stream",
     "text": [
      "[12  8 10  9  8 10 10 12  6 10 13 10 11 11 10  9 11 12  9  8  9 12 10  8 11\n",
      " 11 11  6  9  8  7  9 12 11 12  9  8 10  7 12 12 11 11 12  9 12 11  9 11  9\n",
      " 10 11  8 10 12  8 10  9  7 15 12 10 16 10 12 11  6 10  7 10  6 13 10 13  7\n",
      "  9 10 10 13 10  9  9 12 13 13 11 11 10  8  9  7  9  8 10 11  8 14 10  9  7]\n"
     ]
    },
    {
     "data": {
      "image/png": "[encoded data removed]",
      "text/plain": [
       "<matplotlib.figure.Figure at 0x17460f807f0>"
      ]
     },
     "metadata": {},
     "output_type": "display_data"
    }
   ],
   "source": [
    "bi = np.random.binomial(20, 0.5, size=100)\n",
    "print (bi)\n",
    "plt.hist(bi)\n",
    "plt.show()\n"
   ]
  },
  {
   "cell_type": "markdown",
   "metadata": {},
   "source": [
    "The above data shows the number of times out of 20 the roulette ball landed on red for one hundred tests.  As expected most of the results cluster around ten with little or no results at the lower or upper end of the 1-20 spectrum."
   ]
  },
  {
   "cell_type": "markdown",
   "metadata": {},
   "source": [
    "#### 3.2 hypergeometric(ngood, nbad, nsample, size=None)\n",
    "\n",
    "Hypergeometric distribution is similar to the Binomial distribution above but different in one crucial way.  In binomial distributions the probability remains the same regardless of how many trials.  In the roulette example, each time the ball is rolled there is the same number of red and black squares to land on.  This is because once a trial is finished the sample is deemed to have been replaced and we start again at the begining.  With Hypergeometric distributions there is no replacement.\n",
    "\n",
    "As an example to illustrate this, let us say that there is a box of 100 bananas, of which ninety five are ripe and five are bad.  If we were to pick twenty bananas out of the box without looking, how many of the twenty bananas would be ripe? Note that, as there is no replacement, as each banana is taken there is now one less banana to choose from.  We will run the test one hundred times.\n"
   ]
  },
  {
   "cell_type": "code",
   "execution_count": 8,
   "metadata": {},
   "outputs": [
    {
     "name": "stdout",
     "output_type": "stream",
     "text": [
      "[20 19 19 19 18 20 16 20 19 20 18 20 18 20 18 18 19 19 19 20 20 19 17 17 19\n",
      " 17 18 20 19 18 19 19 17 19 19 20 20 19 19 19 19 18 18 20 20 20 19 20 19 19\n",
      " 19 19 19 20 20 18 20 20 19 19 19 18 19 19 19 19 19 19 19 17 19 19 19 20 18\n",
      " 18 19 18 18 19 20 19 19 19 19 19 19 19 18 20 19 20 19 19 19 20 19 19 19 18]\n"
     ]
    },
    {
     "data": {
      "image/png": "[encoded data removed]",
      "text/plain": [
       "<matplotlib.figure.Figure at 0x17461108470>"
      ]
     },
     "metadata": {},
     "output_type": "display_data"
    }
   ],
   "source": [
    "hy = np.random.hypergeometric(95,5,20, 100)\n",
    "print(hy)\n",
    "plt.hist(hy)\n",
    "plt.show()"
   ]
  },
  {
   "cell_type": "markdown",
   "metadata": {},
   "source": [
    "The above data shows the number of ripe bananas that would have been pulled out of twenty for one hundred tests. As expected because there are 95% ripe bananas in the box, the results clustered in the upper teens to twenty inclusive."
   ]
  },
  {
   "cell_type": "code",
   "execution_count": null,
   "metadata": {
    "collapsed": true
   },
   "outputs": [],
   "source": []
  },
  {
   "cell_type": "markdown",
   "metadata": {},
   "source": [
    "#### 3.3 (loc=0.0, scale=1.0, size=None)\n",
    "\n",
    "This generates sample data to match a given mean and standard deviation.  The mean is the average value of an array and the standard deviation is is a measure that is used to quantify the amount of variation or dispersion of a set of data values.  In brief, a low satndard deviation would indicate that most values cluster around the mean while a higher standard deviation would suggest values being more spread out.  An approximate rule for standard deviations is 68% of values falling one deviation either side of the mean, 95% falling in the fist and second deviations either side of the mean, and up to 99.7% falling three deviations from the mean.\n",
    "For example, if we were to look at a set of 10,000 exam results.  The average score being 75 with a standard deviation from the mean of 10. Using the above rule, this would mean that 68% of results would fall between 65 and 85, 95% of results will fall between 55 and 95, and 99.7% of results falling between 45 and 105. We can produce the data using the normal function.\n"
   ]
  },
  {
   "cell_type": "code",
   "execution_count": 17,
   "metadata": {},
   "outputs": [
    {
     "name": "stdout",
     "output_type": "stream",
     "text": [
      "[ 67.0801573   52.37749754  76.88851265 ...,  68.45584612  66.67471747\n",
      "  79.70097675]\n"
     ]
    },
    {
     "data": {
      "image/png": "[encoded data removed]",
      "text/plain": [
       "<matplotlib.figure.Figure at 0x1745ff53d68>"
      ]
     },
     "metadata": {},
     "output_type": "display_data"
    }
   ],
   "source": [
    "z = np.random.normal(75, 10, 10000)\n",
    "print (z)\n",
    "plt.hist(z)\n",
    "plt.show()"
   ]
  },
  {
   "cell_type": "code",
   "execution_count": null,
   "metadata": {
    "collapsed": true
   },
   "outputs": [],
   "source": []
  },
  {
   "cell_type": "code",
   "execution_count": null,
   "metadata": {
    "collapsed": true
   },
   "outputs": [],
   "source": []
  },
  {
   "cell_type": "code",
   "execution_count": 10,
   "metadata": {},
   "outputs": [
    {
     "data": {
      "text/plain": [
       "array([-0.60298146, -0.05158245, -0.78522038, -0.16657132, -0.12543625,\n",
       "       -0.92618682, -0.71610368, -0.83058421, -0.19428644, -0.98050187,\n",
       "       -0.49712225, -0.33398411, -0.15552756, -0.59208246, -0.26779902,\n",
       "       -0.27857779, -0.5081706 , -0.57681317, -0.48909223, -0.00798192,\n",
       "       -0.01088755, -0.84482916, -0.34544211, -0.61601337, -0.58669063,\n",
       "       -0.68180531, -0.55804033, -0.17507569, -0.72341031, -0.18541816,\n",
       "       -0.77502821, -0.47277397, -0.72935037, -0.10897454, -0.68319968,\n",
       "       -0.8487657 , -0.90970435, -0.52009473, -0.82281135, -0.28921692,\n",
       "       -0.49965251, -0.22126022, -0.12476661, -0.09949644, -0.4105472 ,\n",
       "       -0.39982428, -0.18904766, -0.81620872, -0.96702995, -0.56726635,\n",
       "       -0.53249796, -0.49372822, -0.40377461, -0.27406191, -0.4362595 ,\n",
       "       -0.42993835, -0.85361122, -0.10902461, -0.5805092 , -0.20347433,\n",
       "       -0.16595918, -0.73955025, -0.18652662, -0.96360084, -0.9418868 ,\n",
       "       -0.96611081, -0.32363118, -0.93489079, -0.53372786, -0.8652995 ,\n",
       "       -0.67018182, -0.16114373, -0.95435113, -0.25041649, -0.46432319,\n",
       "       -0.81652321, -0.4490715 , -0.69322632, -0.14619411, -0.36850248,\n",
       "       -0.4955299 , -0.73147154, -0.41858667, -0.03686016, -0.56939998,\n",
       "       -0.84518294, -0.92882342, -0.22416241, -0.86270412, -0.62320946,\n",
       "       -0.1587835 , -0.22674051, -0.67764088, -0.82153715, -0.94589725,\n",
       "       -0.75147115, -0.56655285, -0.52636418, -0.8529436 , -0.80594347])"
      ]
     },
     "execution_count": 10,
     "metadata": {},
     "output_type": "execute_result"
    }
   ],
   "source": [
    "y = np.random.uniform(-1,0,100)\n",
    "y"
   ]
  },
  {
   "cell_type": "code",
   "execution_count": 11,
   "metadata": {},
   "outputs": [
    {
     "data": {
      "image/png": "[encoded data removed]",
      "text/plain": [
       "<matplotlib.figure.Figure at 0x17460f805f8>"
      ]
     },
     "metadata": {},
     "output_type": "display_data"
    }
   ],
   "source": [
    "plt.hist(y)\n",
    "plt.show()"
   ]
  },
  {
   "cell_type": "code",
   "execution_count": 12,
   "metadata": {
    "collapsed": true
   },
   "outputs": [],
   "source": [
    "z = np.random.normal(0, 1, 10000)"
   ]
  },
  {
   "cell_type": "code",
   "execution_count": 13,
   "metadata": {},
   "outputs": [
    {
     "data": {
      "image/png": "[encoded data removed]",
      "text/plain": [
       "<matplotlib.figure.Figure at 0x174616f87f0>"
      ]
     },
     "metadata": {},
     "output_type": "display_data"
    }
   ],
   "source": [
    "plt.hist(z)\n",
    "\n",
    "plt.show()"
   ]
  },
  {
   "cell_type": "code",
   "execution_count": null,
   "metadata": {
    "collapsed": true
   },
   "outputs": [],
   "source": []
  },
  {
   "cell_type": "code",
   "execution_count": null,
   "metadata": {
    "collapsed": true
   },
   "outputs": [],
   "source": []
  }
 ],
 "metadata": {
  "kernelspec": {
   "display_name": "Python 3",
   "language": "python",
   "name": "python3"
  },
  "language_info": {
   "codemirror_mode": {
    "name": "ipython",
    "version": 3
   },
   "file_extension": ".py",
   "mimetype": "text/x-python",
   "name": "python",
   "nbconvert_exporter": "python",
   "pygments_lexer": "ipython3",
   "version": "3.6.3"
  }
 },
 "nbformat": 4,
 "nbformat_minor": 2
}
