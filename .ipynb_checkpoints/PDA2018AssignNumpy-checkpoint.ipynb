{
 "cells": [
  {
   "cell_type": "code",
   "execution_count": null,
   "metadata": {
    "collapsed": true
   },
   "outputs": [],
   "source": []
  },
  {
   "cell_type": "raw",
   "metadata": {},
   "source": []
  },
  {
   "cell_type": "markdown",
   "metadata": {
    "collapsed": true
   },
   "source": [
    "# The Numpy.Random Package - An Investigation\n",
    "In this notebook we will be investigating the Numpy.random package and it's various features.  Numpy.random is a random sampling mechanism within the greater Numpy package.\n",
    "\n",
    "## What is NumPy?\n",
    "\n",
    "NumPy is the fundamental package for scientific computing with Python.  It is a library for the Python programming language, adding support for large, multi-dimensional arrays and matrices, along with a large collection of high-level mathematical functions to operate on these arrays.\n"
   ]
  },
  {
   "cell_type": "markdown",
   "metadata": {},
   "source": [
    "## Random Data\n",
    "In statistics, a simple random sample is a subset of individuals (a sample) chosen from a larger set (a population).  A random sample ought to be completely unbiased, although this is very difficult to achieve in reality.  It is assumed that if a random sample is truely random, then any individual has the same probability of being chosen as any other individual or, by extension, any subset of individuals has the same probability of being chosen as any other subset. "
   ]
  },
  {
   "cell_type": "markdown",
   "metadata": {},
   "source": [
    "## Numpy.Random\n",
    "An important part of any simulation is the ability to generate random numbers. For this purpose, NumPy provides various routines in the submodule random. It uses a particular algorithm, called the Mersenne Twister, to generate pseudorandom numbers.  We call them pseudorandom because, as noted above, it is almost impossible to remove all bias from selection,both in computing and everyday life.\n",
    "\n",
    "### There are four sections to Numpy.random\n",
    "1. Simple Random Data\n",
    "2. Permutations\n",
    "3. Distributions\n",
    "4. Random Generators\n",
    "\n",
    "We will look at these in turn.\n",
    "\n"
   ]
  },
  {
   "cell_type": "code",
   "execution_count": 28,
   "metadata": {
    "collapsed": true
   },
   "outputs": [],
   "source": [
    "import numpy as np # to import the numpy package\n",
    "import matplotlib.pyplot as plt # to import matplotlib for graphing results"
   ]
  },
  {
   "cell_type": "markdown",
   "metadata": {},
   "source": [
    "### 1.Simple Random Data\n",
    "This is numpy.random operating at it's most basic level.  It has a number of functions to generate simple random data and we can take a look at two of these.\n",
    "\n",
    "#### 1.1 rand(d0, d1, …, dn)\n",
    "This generates an array of random values greater than and equal to zero and less than one in a given shape.  The number of values is determinded by the shape of the array.  For example, a two dimensional array with 3 rows and 4 columns will look like the output below, giving twelve values."
   ]
  },
  {
   "cell_type": "code",
   "execution_count": 2,
   "metadata": {},
   "outputs": [
    {
     "data": {
      "text/plain": [
       "array([[ 0.40790416,  0.70441217,  0.22117102,  0.11252137],\n",
       "       [ 0.42141396,  0.81991667,  0.46317367,  0.46304009],\n",
       "       [ 0.82807362,  0.40939718,  0.44483928,  0.38502562]])"
      ]
     },
     "execution_count": 2,
     "metadata": {},
     "output_type": "execute_result"
    }
   ],
   "source": [
    "x = np.random.rand(3,4)\n",
    "x"
   ]
  },
  {
   "cell_type": "markdown",
   "metadata": {},
   "source": [
    "We can add a third dimension to the array by adding another variable to the function.  For example, below, adding 2 to give a three dimensional selection, two arrays of three rows and four columns."
   ]
  },
  {
   "cell_type": "code",
   "execution_count": 3,
   "metadata": {},
   "outputs": [
    {
     "data": {
      "text/plain": [
       "array([[[  5.01448566e-01,   1.15613749e-05,   4.27289472e-01,\n",
       "           3.02477871e-01],\n",
       "        [  4.78386616e-01,   5.06846507e-02,   2.06920969e-01,\n",
       "           6.90556322e-01],\n",
       "        [  6.02906929e-01,   4.25633000e-01,   3.47494657e-01,\n",
       "           4.88136409e-01]],\n",
       "\n",
       "       [[  9.52987714e-01,   4.36064640e-01,   7.53860076e-01,\n",
       "           2.17376906e-01],\n",
       "        [  9.10079315e-01,   9.20510126e-01,   3.93536183e-01,\n",
       "           6.40700875e-01],\n",
       "        [  9.31333356e-01,   9.11918670e-01,   8.71142021e-01,\n",
       "           1.05008206e-02]]])"
      ]
     },
     "execution_count": 3,
     "metadata": {},
     "output_type": "execute_result"
    }
   ],
   "source": [
    "y = np.random.rand(2,3,4)\n",
    "y"
   ]
  },
  {
   "cell_type": "markdown",
   "metadata": {},
   "source": [
    "#### 1.2 randint(low, high=None, size=None, dtype='l')\n",
    "\n",
    "This returns random integers from low (inclusive) to high (exclusive).  This allows for setting the parameters of the array outside of zero to one as with rand, above.  The example below generatesfiftenn integers greater than and equal to zero and less than twenty."
   ]
  },
  {
   "cell_type": "code",
   "execution_count": 4,
   "metadata": {},
   "outputs": [
    {
     "data": {
      "text/plain": [
       "array([16, 17, 10,  9,  2,  2,  9,  5,  9, 11,  3,  2,  2,  5, 18])"
      ]
     },
     "execution_count": 4,
     "metadata": {},
     "output_type": "execute_result"
    }
   ],
   "source": [
    "z = np.random.randint(1,20, size=15)\n",
    "z"
   ]
  },
  {
   "cell_type": "markdown",
   "metadata": {},
   "source": [
    "### 2. Permutations\n",
    "\n",
    "#### 2.1 permutation(x)\n",
    "\n",
    "This modifies a sequence in-place by shuffling the contents of an array into different permutations.  The actual contents remain the same but the order is shuffled.  In the example below the array of 20 integers is shuffled but the same integers remain in the array.\n"
   ]
  },
  {
   "cell_type": "code",
   "execution_count": 5,
   "metadata": {},
   "outputs": [
    {
     "data": {
      "text/plain": [
       "array([12,  9,  6, 19, 16, 11, 17,  2,  4, 14,  8,  0, 15,  1, 10,  7, 13,\n",
       "       18,  5,  3])"
      ]
     },
     "execution_count": 5,
     "metadata": {},
     "output_type": "execute_result"
    }
   ],
   "source": [
    "arr = np.random.permutation(20)\n",
    "arr"
   ]
  },
  {
   "cell_type": "markdown",
   "metadata": {
    "collapsed": true
   },
   "source": [
    "### 3. Distributions\n",
    "\n",
    "A probability distribution tells you what the probability of an event happening is. Probability distributions can show simple events, like tossing a coin or picking a card. They can also show much more complex events, like the probability of a certain drug successfully treating cancer. The sum of all the probabilities in a probability distribution is always 100% (or 1 as a decimal).\n",
    "\n",
    "We will look at five of the most widely used probability distributions in this section.\n"
   ]
  },
  {
   "cell_type": "markdown",
   "metadata": {
    "collapsed": true
   },
   "source": [
    "#### 3.1 binomial(n, p, size=None)\n",
    "This draws samples from a binomial distribution with specified parameters where n is the number (always >=0) of trials and p is the probability ([0,1]). Size is the number of tests.  In the example below we take the example of the ball landing on red on a roulette table.  This would have equal probability of landing on red as black, so p will be equal to 0.5.  We will have twenty trials so n will be equal to 20.  We will run the test one hundred times times so Size will be equal to 100."
   ]
  },
  {
   "cell_type": "code",
   "execution_count": 45,
   "metadata": {},
   "outputs": [
    {
     "name": "stdout",
     "output_type": "stream",
     "text": [
      "[ 9 12 10  9  6 10 10 11 13 10  9 13 13  6 10 11 12  9  8 11 11  8 11  8 12\n",
      " 12  9 12 13 11 10  7  7 13  7  9 13  5 10  8 10 13  9  9 10 12  7  6  4  9\n",
      "  8  9 11  9  8 10 12 11 10 15  9  9 10 11 10 10  8  8  9 15 12 10 11  5 12\n",
      " 11 10 11  7  8 10 13  9 13 12 11 11 12 10 11  9  7  8 12 11  9 13 11 10 11]\n"
     ]
    },
    {
     "data": {
      "image/png": "[encoded data removed]",
      "text/plain": [
       "<matplotlib.figure.Figure at 0x1e4875a3b00>"
      ]
     },
     "metadata": {},
     "output_type": "display_data"
    }
   ],
   "source": [
    "bi = np.random.binomial(20, 0.5, size=100)\n",
    "print (bi)\n",
    "plt.hist(bi)\n",
    "plt.show()\n"
   ]
  },
  {
   "cell_type": "markdown",
   "metadata": {},
   "source": [
    "The above data shows the number of times out of 20 the roulette ball landed on red for one hundred tests.  As expected most of the results cluster around ten with little or no results at the lower or upper end of the 1-20 spectrum."
   ]
  },
  {
   "cell_type": "markdown",
   "metadata": {},
   "source": [
    "#### 3.2 hypergeometric(ngood, nbad, nsample, size=None)\n",
    "\n",
    "Hypergeometric distribution is similar to the Binomial distribution above but different in one crucial way.  In binomial distributions the probability remains the same regardless of how many trials.  In the roulette example, each time the ball is rolled there is the same number of red and black squares to land on.  This is because once a trial is finished the sample is deemed to have been replaced and we start again at the begining.  With Hypergeometric distributions there is no replacement.\n",
    "\n",
    "As an example to illustrate this, let us say that there is a box of 100 bananas, of which ninety five are ripe and five are bad.  If we were to pick twenty bananas out of the box without looking, how many of the twenty bananas would be ripe? Note that, as there is no replacement, as each banana is taken there is now one less banana to choose from.  We will run the test one hundred times.\n"
   ]
  },
  {
   "cell_type": "code",
   "execution_count": 44,
   "metadata": {},
   "outputs": [
    {
     "name": "stdout",
     "output_type": "stream",
     "text": [
      "[18 19 20 19 20 18 19 20 19 20 19 19 19 20 18 17 19 19 19 18 19 20 20 20 18\n",
      " 20 20 17 18 19 20 20 19 19 20 20 19 20 20 20 20 20 19 20 19 20 20 19 19 20\n",
      " 19 20 19 18 20 18 20 18 19 19 18 19 18 19 19 19 19 20 18 20 18 20 19 18 19\n",
      " 20 19 19 19 19 20 18 19 19 19 19 20 18 19 18 19 19 19 19 18 19 19 18 20 18]\n"
     ]
    },
    {
     "data": {
      "image/png": "[encoded data removed]",
      "text/plain": [
       "<matplotlib.figure.Figure at 0x1e486560518>"
      ]
     },
     "metadata": {},
     "output_type": "display_data"
    }
   ],
   "source": [
    "hy = np.random.hypergeometric(95,5,20, 100)\n",
    "print(hy)\n",
    "plt.hist(hy)\n",
    "plt.show()"
   ]
  },
  {
   "cell_type": "markdown",
   "metadata": {},
   "source": [
    "The above data shows the number of ripe bananas that would have been pulled out of twenty for one hundred tests. As expected because there are 95% ripe bananas in the box, the results clustered in the upper teens to twenty inclusive."
   ]
  },
  {
   "cell_type": "markdown",
   "metadata": {},
   "source": [
    "#### 3.3 "
   ]
  },
  {
   "cell_type": "code",
   "execution_count": 32,
   "metadata": {},
   "outputs": [
    {
     "data": {
      "image/png": "[encoded data removed]",
      "text/plain": [
       "<matplotlib.figure.Figure at 0x1e48631b198>"
      ]
     },
     "metadata": {},
     "output_type": "display_data"
    }
   ],
   "source": [
    "import matplotlib.pyplot as plt\n",
    "plt.hist(x)\n",
    "\n",
    "plt.show()\n"
   ]
  },
  {
   "cell_type": "code",
   "execution_count": 33,
   "metadata": {},
   "outputs": [
    {
     "data": {
      "text/plain": [
       "array([-0.72999816, -0.16348084, -0.8643749 , -0.74155943, -0.07034409,\n",
       "       -0.58367991, -0.87305582, -0.73888383, -0.74916776, -0.81518824,\n",
       "       -0.80467885, -0.5444507 , -0.29490668, -0.95867386, -0.55745175,\n",
       "       -0.43482431, -0.07752156, -0.15455545, -0.71384287, -0.27078773,\n",
       "       -0.85933155, -0.70244748, -0.82643313, -0.13326512, -0.69247577,\n",
       "       -0.39629566, -0.82361031, -0.98631658, -0.6110994 , -0.07825786,\n",
       "       -0.08984594, -0.84886198, -0.08312715, -0.99748199, -0.46025745,\n",
       "       -0.83050886, -0.39725812, -0.33871214, -0.49791175, -0.60767079,\n",
       "       -0.80902972, -0.31471376, -0.2154175 , -0.23988944, -0.27548628,\n",
       "       -0.58003598, -0.49421315, -0.11965455, -0.53553642, -0.09400646,\n",
       "       -0.63520288, -0.92784791, -0.80041942, -0.66179173, -0.02154686,\n",
       "       -0.47361961, -0.56408962, -0.70480288, -0.2055784 , -0.02715594,\n",
       "       -0.68466819, -0.86827209, -0.35420598, -0.88358632, -0.21025075,\n",
       "       -0.44845505, -0.16642805, -0.86704282, -0.14820331, -0.45131118,\n",
       "       -0.40311932, -0.19795282, -0.8743861 , -0.68207652, -0.23987547,\n",
       "       -0.07387835, -0.86541802, -0.41668354, -0.60365966, -0.77502676,\n",
       "       -0.99732538, -0.74132077, -0.02941833, -0.59386538, -0.66104965,\n",
       "       -0.3958569 , -0.45230849, -0.47709394, -0.05235997, -0.99411129,\n",
       "       -0.70419858, -0.28114795, -0.96485123, -0.62343109, -0.82514066,\n",
       "       -0.6737781 , -0.52487968, -0.74076735, -0.73759474, -0.52193647])"
      ]
     },
     "execution_count": 33,
     "metadata": {},
     "output_type": "execute_result"
    }
   ],
   "source": [
    "y = np.random.uniform(-1,0,100)\n",
    "y"
   ]
  },
  {
   "cell_type": "code",
   "execution_count": 34,
   "metadata": {},
   "outputs": [
    {
     "data": {
      "image/png": "[encoded data removed]",
      "text/plain": [
       "<matplotlib.figure.Figure at 0x1e485e3fc50>"
      ]
     },
     "metadata": {},
     "output_type": "display_data"
    }
   ],
   "source": [
    "plt.hist(y)\n",
    "plt.show()"
   ]
  },
  {
   "cell_type": "code",
   "execution_count": 35,
   "metadata": {
    "collapsed": true
   },
   "outputs": [],
   "source": [
    "z = np.random.normal(0, 1, 10000)"
   ]
  },
  {
   "cell_type": "code",
   "execution_count": 36,
   "metadata": {},
   "outputs": [
    {
     "data": {
      "image/png": "[encoded data removed]",
      "text/plain": [
       "<matplotlib.figure.Figure at 0x1e485e04940>"
      ]
     },
     "metadata": {},
     "output_type": "display_data"
    }
   ],
   "source": [
    "plt.hist(z)\n",
    "\n",
    "plt.show()"
   ]
  },
  {
   "cell_type": "code",
   "execution_count": null,
   "metadata": {
    "collapsed": true
   },
   "outputs": [],
   "source": []
  },
  {
   "cell_type": "code",
   "execution_count": null,
   "metadata": {
    "collapsed": true
   },
   "outputs": [],
   "source": []
  }
 ],
 "metadata": {
  "kernelspec": {
   "display_name": "Python 3",
   "language": "python",
   "name": "python3"
  },
  "language_info": {
   "codemirror_mode": {
    "name": "ipython",
    "version": 3
   },
   "file_extension": ".py",
   "mimetype": "text/x-python",
   "name": "python",
   "nbconvert_exporter": "python",
   "pygments_lexer": "ipython3",
   "version": "3.6.3"
  }
 },
 "nbformat": 4,
 "nbformat_minor": 2
}
